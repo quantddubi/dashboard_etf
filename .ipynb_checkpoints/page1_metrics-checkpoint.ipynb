{
 "cells": [
  {
   "cell_type": "code",
   "execution_count": 111,
   "id": "b48ce9a1-063b-4a0a-a1bd-c1c12ba28dec",
   "metadata": {},
   "outputs": [],
   "source": [
    "import pandas as pd\n",
    "import yfinance as yf\n",
    "import pandas_datareader.data as web\n",
    "import datetime\n",
    "import matplotlib.pyplot as plt"
   ]
  },
  {
   "cell_type": "code",
   "execution_count": null,
   "id": "5fe0643b-1600-4104-9988-b3d3074112ca",
   "metadata": {},
   "outputs": [],
   "source": [
    "# 엑셀 파일 불러오기 (sheet_name으로 특정 시트 지정 가능)\n",
    "df_raw = pd.read_excel(\"etf_raw_daily.xlsx\", sheet_name=None)"
   ]
  },
  {
   "cell_type": "code",
   "execution_count": 65,
   "id": "8c439cda-861b-477d-af8d-2fa046e85635",
   "metadata": {},
   "outputs": [],
   "source": [
    "df_price = pd.DataFrame(df_raw['asset_price'].iloc[16:,])\n",
    "df_price = df_price.rename(columns=df_raw['asset_price'].iloc[12,1:49])\n",
    "df_price.set_index('Unnamed: 0', inplace=True)"
   ]
  },
  {
   "cell_type": "code",
   "execution_count": 129,
   "id": "c2db2f82-f200-4ca5-9b40-918218c6deb4",
   "metadata": {},
   "outputs": [],
   "source": [
    "asset_price = df_price[['US','Europe','Japan','China','Korea','Long','Low','Energy&Fuel','fx']]"
   ]
  },
  {
   "cell_type": "code",
   "execution_count": 131,
   "id": "3d22d214-d94b-4368-abcc-a82d88885b99",
   "metadata": {},
   "outputs": [
    {
     "data": {
      "text/html": [
       "<div>\n",
       "<style scoped>\n",
       "    .dataframe tbody tr th:only-of-type {\n",
       "        vertical-align: middle;\n",
       "    }\n",
       "\n",
       "    .dataframe tbody tr th {\n",
       "        vertical-align: top;\n",
       "    }\n",
       "\n",
       "    .dataframe thead th {\n",
       "        text-align: right;\n",
       "    }\n",
       "</style>\n",
       "<table border=\"1\" class=\"dataframe\">\n",
       "  <thead>\n",
       "    <tr style=\"text-align: right;\">\n",
       "      <th></th>\n",
       "      <th>US</th>\n",
       "      <th>Europe</th>\n",
       "      <th>Japan</th>\n",
       "      <th>China</th>\n",
       "      <th>Korea</th>\n",
       "      <th>Long</th>\n",
       "      <th>Low</th>\n",
       "      <th>Energy&amp;Fuel</th>\n",
       "      <th>fx</th>\n",
       "    </tr>\n",
       "    <tr>\n",
       "      <th>Unnamed: 0</th>\n",
       "      <th></th>\n",
       "      <th></th>\n",
       "      <th></th>\n",
       "      <th></th>\n",
       "      <th></th>\n",
       "      <th></th>\n",
       "      <th></th>\n",
       "      <th></th>\n",
       "      <th></th>\n",
       "    </tr>\n",
       "  </thead>\n",
       "  <tbody>\n",
       "    <tr>\n",
       "      <th>2020-01-03</th>\n",
       "      <td>3234.85</td>\n",
       "      <td>418.33</td>\n",
       "      <td>23656.62</td>\n",
       "      <td>4144.96</td>\n",
       "      <td>2176.46</td>\n",
       "      <td>139.12</td>\n",
       "      <td>84.74</td>\n",
       "      <td>63.05</td>\n",
       "      <td>1166.9</td>\n",
       "    </tr>\n",
       "    <tr>\n",
       "      <th>2020-01-10</th>\n",
       "      <td>3265.35</td>\n",
       "      <td>419.14</td>\n",
       "      <td>23850.57</td>\n",
       "      <td>4163.18</td>\n",
       "      <td>2206.39</td>\n",
       "      <td>138.44</td>\n",
       "      <td>84.7</td>\n",
       "      <td>59.04</td>\n",
       "      <td>1161.65</td>\n",
       "    </tr>\n",
       "    <tr>\n",
       "      <th>2020-01-17</th>\n",
       "      <td>3329.62</td>\n",
       "      <td>424.56</td>\n",
       "      <td>24041.26</td>\n",
       "      <td>4154.85</td>\n",
       "      <td>2250.57</td>\n",
       "      <td>138.02</td>\n",
       "      <td>84.77</td>\n",
       "      <td>58.54</td>\n",
       "      <td>1159.5</td>\n",
       "    </tr>\n",
       "    <tr>\n",
       "      <th>2020-01-24</th>\n",
       "      <td>3295.47</td>\n",
       "      <td>423.64</td>\n",
       "      <td>23827.18</td>\n",
       "      <td>4003.9</td>\n",
       "      <td>2246.13</td>\n",
       "      <td>142.08</td>\n",
       "      <td>84.87</td>\n",
       "      <td>54.19</td>\n",
       "      <td>1168.65</td>\n",
       "    </tr>\n",
       "    <tr>\n",
       "      <th>2020-01-31</th>\n",
       "      <td>3225.52</td>\n",
       "      <td>410.71</td>\n",
       "      <td>23205.18</td>\n",
       "      <td>4003.9</td>\n",
       "      <td>2119.01</td>\n",
       "      <td>145.9</td>\n",
       "      <td>85.12</td>\n",
       "      <td>51.56</td>\n",
       "      <td>1191.7</td>\n",
       "    </tr>\n",
       "    <tr>\n",
       "      <th>...</th>\n",
       "      <td>...</td>\n",
       "      <td>...</td>\n",
       "      <td>...</td>\n",
       "      <td>...</td>\n",
       "      <td>...</td>\n",
       "      <td>...</td>\n",
       "      <td>...</td>\n",
       "      <td>...</td>\n",
       "      <td>...</td>\n",
       "    </tr>\n",
       "    <tr>\n",
       "      <th>2025-01-10</th>\n",
       "      <td>5827.04</td>\n",
       "      <td>511.5</td>\n",
       "      <td>39190.4</td>\n",
       "      <td>3732.48</td>\n",
       "      <td>2515.78</td>\n",
       "      <td>85.46</td>\n",
       "      <td>81.83</td>\n",
       "      <td>76.57</td>\n",
       "      <td>1471.3</td>\n",
       "    </tr>\n",
       "    <tr>\n",
       "      <th>2025-01-17</th>\n",
       "      <td>5996.66</td>\n",
       "      <td>523.62</td>\n",
       "      <td>38451.46</td>\n",
       "      <td>3812.34</td>\n",
       "      <td>2523.55</td>\n",
       "      <td>87.19</td>\n",
       "      <td>82.08</td>\n",
       "      <td>77.88</td>\n",
       "      <td>1457.35</td>\n",
       "    </tr>\n",
       "    <tr>\n",
       "      <th>2025-01-24</th>\n",
       "      <td>6101.24</td>\n",
       "      <td>530.07</td>\n",
       "      <td>39931.98</td>\n",
       "      <td>3832.86</td>\n",
       "      <td>2536.8</td>\n",
       "      <td>87.22</td>\n",
       "      <td>82.14</td>\n",
       "      <td>74.66</td>\n",
       "      <td>1430.5</td>\n",
       "    </tr>\n",
       "    <tr>\n",
       "      <th>2025-01-31</th>\n",
       "      <td>6040.53</td>\n",
       "      <td>539.53</td>\n",
       "      <td>39572.49</td>\n",
       "      <td>3817.08</td>\n",
       "      <td>2517.37</td>\n",
       "      <td>87.76</td>\n",
       "      <td>82.29</td>\n",
       "      <td>72.53</td>\n",
       "      <td>1454.3</td>\n",
       "    </tr>\n",
       "    <tr>\n",
       "      <th>2025-02-07</th>\n",
       "      <td>6025.99</td>\n",
       "      <td>542.75</td>\n",
       "      <td>38787.02</td>\n",
       "      <td>3892.7</td>\n",
       "      <td>2521.92</td>\n",
       "      <td>89.27</td>\n",
       "      <td>81.97</td>\n",
       "      <td>71</td>\n",
       "      <td>1448.75</td>\n",
       "    </tr>\n",
       "  </tbody>\n",
       "</table>\n",
       "<p>267 rows × 9 columns</p>\n",
       "</div>"
      ],
      "text/plain": [
       "                 US  Europe     Japan    China    Korea    Long    Low  \\\n",
       "Unnamed: 0                                                               \n",
       "2020-01-03  3234.85  418.33  23656.62  4144.96  2176.46  139.12  84.74   \n",
       "2020-01-10  3265.35  419.14  23850.57  4163.18  2206.39  138.44   84.7   \n",
       "2020-01-17  3329.62  424.56  24041.26  4154.85  2250.57  138.02  84.77   \n",
       "2020-01-24  3295.47  423.64  23827.18   4003.9  2246.13  142.08  84.87   \n",
       "2020-01-31  3225.52  410.71  23205.18   4003.9  2119.01   145.9  85.12   \n",
       "...             ...     ...       ...      ...      ...     ...    ...   \n",
       "2025-01-10  5827.04   511.5   39190.4  3732.48  2515.78   85.46  81.83   \n",
       "2025-01-17  5996.66  523.62  38451.46  3812.34  2523.55   87.19  82.08   \n",
       "2025-01-24  6101.24  530.07  39931.98  3832.86   2536.8   87.22  82.14   \n",
       "2025-01-31  6040.53  539.53  39572.49  3817.08  2517.37   87.76  82.29   \n",
       "2025-02-07  6025.99  542.75  38787.02   3892.7  2521.92   89.27  81.97   \n",
       "\n",
       "           Energy&Fuel       fx  \n",
       "Unnamed: 0                       \n",
       "2020-01-03       63.05   1166.9  \n",
       "2020-01-10       59.04  1161.65  \n",
       "2020-01-17       58.54   1159.5  \n",
       "2020-01-24       54.19  1168.65  \n",
       "2020-01-31       51.56   1191.7  \n",
       "...                ...      ...  \n",
       "2025-01-10       76.57   1471.3  \n",
       "2025-01-17       77.88  1457.35  \n",
       "2025-01-24       74.66   1430.5  \n",
       "2025-01-31       72.53   1454.3  \n",
       "2025-02-07          71  1448.75  \n",
       "\n",
       "[267 rows x 9 columns]"
      ]
     },
     "execution_count": 131,
     "metadata": {},
     "output_type": "execute_result"
    }
   ],
   "source": [
    "weekly_asset_price = asset_price[asset_price.index.weekday ==4]\n",
    "weekly_asset_price"
   ]
  },
  {
   "cell_type": "code",
   "execution_count": 332,
   "id": "2e86c0f3-005a-4bb1-b4f2-1970cbe2c49b",
   "metadata": {},
   "outputs": [
    {
     "name": "stderr",
     "output_type": "stream",
     "text": [
      "C:\\Users\\USER\\AppData\\Local\\Temp\\ipykernel_29356\\3345238842.py:1: FutureWarning: Downcasting object dtype arrays on .fillna, .ffill, .bfill is deprecated and will change in a future version. Call result.infer_objects(copy=False) instead. To opt-in to the future behavior, set `pd.set_option('future.no_silent_downcasting', True)`\n",
      "  stock_price_pct = pd.DataFrame([weekly_asset_price.iloc[:,:5].pct_change().iloc[-1]*100], index=None)\n"
     ]
    }
   ],
   "source": [
    "stock_price_pct = pd.DataFrame([weekly_asset_price.iloc[:,:5].pct_change().iloc[-1]*100], index=None)"
   ]
  },
  {
   "cell_type": "code",
   "execution_count": 340,
   "id": "6d42f972-de8a-4a77-8e35-565c9663b6dc",
   "metadata": {},
   "outputs": [],
   "source": [
    "stock_price_pct = stock_price_pct.reset_index(drop=True)"
   ]
  },
  {
   "cell_type": "code",
   "execution_count": 342,
   "id": "0a087042-000b-42b0-9bc5-4aa49ee7bdc6",
   "metadata": {},
   "outputs": [],
   "source": [
    "bond_price_pct = pd.DataFrame([weekly_asset_price.iloc[:,5:7].iloc[-2] - weekly_asset_price.iloc[:,5:7].iloc[-1]])"
   ]
  },
  {
   "cell_type": "code",
   "execution_count": 344,
   "id": "7ecf8ee4-c56a-48d5-9b92-b64f23c78ba5",
   "metadata": {},
   "outputs": [
    {
     "name": "stderr",
     "output_type": "stream",
     "text": [
      "C:\\Users\\USER\\AppData\\Local\\Temp\\ipykernel_29356\\938647360.py:1: FutureWarning: Downcasting object dtype arrays on .fillna, .ffill, .bfill is deprecated and will change in a future version. Call result.infer_objects(copy=False) instead. To opt-in to the future behavior, set `pd.set_option('future.no_silent_downcasting', True)`\n",
      "  comm_price_pct = pd.DataFrame([weekly_asset_price['Energy&Fuel'].pct_change().iloc[-1]*100], columns = ['WTI'])\n"
     ]
    }
   ],
   "source": [
    "comm_price_pct = pd.DataFrame([weekly_asset_price['Energy&Fuel'].pct_change().iloc[-1]*100], columns = ['WTI'])"
   ]
  },
  {
   "cell_type": "code",
   "execution_count": 346,
   "id": "e7303348-eb7a-4edd-8fa3-1a41c1cc330e",
   "metadata": {},
   "outputs": [],
   "source": [
    "fx_price_pct = pd.DataFrame([weekly_asset_price['fx'].iloc[-1] - weekly_asset_price['fx'].iloc[-2]], columns =['USD/KRW']) "
   ]
  },
  {
   "cell_type": "code",
   "execution_count": 368,
   "id": "996e4aea-6206-4c4a-bd7d-36b6a20b4848",
   "metadata": {},
   "outputs": [],
   "source": [
    "df = pd.concat([stock_price_pct, bond_price_pct, comm_price_pct, fx_price_pct],axis=1)"
   ]
  },
  {
   "cell_type": "code",
   "execution_count": 370,
   "id": "b35c5b6e-115b-4c43-9022-e756f9a204a2",
   "metadata": {},
   "outputs": [
    {
     "data": {
      "text/html": [
       "<div>\n",
       "<style scoped>\n",
       "    .dataframe tbody tr th:only-of-type {\n",
       "        vertical-align: middle;\n",
       "    }\n",
       "\n",
       "    .dataframe tbody tr th {\n",
       "        vertical-align: top;\n",
       "    }\n",
       "\n",
       "    .dataframe thead th {\n",
       "        text-align: right;\n",
       "    }\n",
       "</style>\n",
       "<table border=\"1\" class=\"dataframe\">\n",
       "  <thead>\n",
       "    <tr style=\"text-align: right;\">\n",
       "      <th></th>\n",
       "      <th>US</th>\n",
       "      <th>Europe</th>\n",
       "      <th>Japan</th>\n",
       "      <th>China</th>\n",
       "      <th>Korea</th>\n",
       "      <th>Long</th>\n",
       "      <th>Low</th>\n",
       "      <th>WTI</th>\n",
       "      <th>USD/KRW</th>\n",
       "    </tr>\n",
       "  </thead>\n",
       "  <tbody>\n",
       "    <tr>\n",
       "      <th>0</th>\n",
       "      <td>-0.240707</td>\n",
       "      <td>0.596816</td>\n",
       "      <td>-1.984889</td>\n",
       "      <td>1.981095</td>\n",
       "      <td>0.180744</td>\n",
       "      <td>-1.51</td>\n",
       "      <td>0.32</td>\n",
       "      <td>-2.109472</td>\n",
       "      <td>-5.55</td>\n",
       "    </tr>\n",
       "  </tbody>\n",
       "</table>\n",
       "</div>"
      ],
      "text/plain": [
       "         US    Europe     Japan     China     Korea  Long   Low       WTI  \\\n",
       "0 -0.240707  0.596816 -1.984889  1.981095  0.180744 -1.51  0.32 -2.109472   \n",
       "\n",
       "   USD/KRW  \n",
       "0    -5.55  "
      ]
     },
     "execution_count": 370,
     "metadata": {},
     "output_type": "execute_result"
    }
   ],
   "source": [
    "df"
   ]
  },
  {
   "cell_type": "code",
   "execution_count": 372,
   "id": "cafe63c4-b9e2-4cf3-95c1-98a162daa270",
   "metadata": {},
   "outputs": [],
   "source": [
    "df.to_csv('./data/page1_metrics_data.csv')"
   ]
  },
  {
   "cell_type": "code",
   "execution_count": 101,
   "id": "b27422e3-0ae6-4324-a3f4-d9202cfe581e",
   "metadata": {
    "scrolled": true
   },
   "outputs": [
    {
     "data": {
      "text/html": [
       "<div>\n",
       "<style scoped>\n",
       "    .dataframe tbody tr th:only-of-type {\n",
       "        vertical-align: middle;\n",
       "    }\n",
       "\n",
       "    .dataframe tbody tr th {\n",
       "        vertical-align: top;\n",
       "    }\n",
       "\n",
       "    .dataframe thead th {\n",
       "        text-align: right;\n",
       "    }\n",
       "</style>\n",
       "<table border=\"1\" class=\"dataframe\">\n",
       "  <thead>\n",
       "    <tr style=\"text-align: right;\">\n",
       "      <th></th>\n",
       "      <th>Stock</th>\n",
       "      <th>Bond</th>\n",
       "      <th>Commodity</th>\n",
       "      <th>FX</th>\n",
       "    </tr>\n",
       "  </thead>\n",
       "  <tbody>\n",
       "    <tr>\n",
       "      <th>0</th>\n",
       "      <td>0.046028</td>\n",
       "      <td>0.388069</td>\n",
       "      <td>0.234234</td>\n",
       "      <td>-5.55</td>\n",
       "    </tr>\n",
       "  </tbody>\n",
       "</table>\n",
       "</div>"
      ],
      "text/plain": [
       "      Stock      Bond  Commodity    FX\n",
       "0  0.046028  0.388069   0.234234 -5.55"
      ]
     },
     "execution_count": 101,
     "metadata": {},
     "output_type": "execute_result"
    }
   ],
   "source": [
    "# pd.read_csv('./data/page1_metrics_data.csv', index_col=0)"
   ]
  },
  {
   "cell_type": "code",
   "execution_count": null,
   "id": "ddba27fc-d327-4171-a6d2-acbf81427af9",
   "metadata": {},
   "outputs": [],
   "source": []
  }
 ],
 "metadata": {
  "kernelspec": {
   "display_name": "Python 3 (ipykernel)",
   "language": "python",
   "name": "python3"
  },
  "language_info": {
   "codemirror_mode": {
    "name": "ipython",
    "version": 3
   },
   "file_extension": ".py",
   "mimetype": "text/x-python",
   "name": "python",
   "nbconvert_exporter": "python",
   "pygments_lexer": "ipython3",
   "version": "3.12.4"
  }
 },
 "nbformat": 4,
 "nbformat_minor": 5
}
